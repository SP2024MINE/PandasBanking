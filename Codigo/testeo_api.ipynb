{
 "cells": [
  {
   "cell_type": "code",
   "execution_count": 3,
   "metadata": {},
   "outputs": [],
   "source": [
    "import requests"
   ]
  },
  {
   "cell_type": "code",
   "execution_count": 7,
   "metadata": {},
   "outputs": [
    {
     "name": "stdout",
     "output_type": "stream",
     "text": [
      "Solicitud exitosa. Respuesta: {'prediction': 'No va a subscribir a un deposito'}\n"
     ]
    }
   ],
   "source": [
    "import requests\n",
    "\n",
    "def realizar_solicitud_post(url, datos, headers=None):\n",
    "    \"\"\"\n",
    "    Realiza una solicitud POST a una URL específica.\n",
    "\n",
    "    Parámetros:\n",
    "    - url (str): La URL del endpoint de la API.\n",
    "    - datos (dict): Un diccionario con los datos que se enviarán en el cuerpo de la solicitud.\n",
    "    - headers (dict, opcional): Un diccionario con los headers de la solicitud, como Authorization.\n",
    "\n",
    "    Retorna:\n",
    "    - Una tupla (bool, dict/str): El primer elemento indica si la solicitud fue exitosa (True) o no (False).\n",
    "      El segundo elemento es la respuesta de la API convertida en un diccionario si es posible, o la respuesta cruda en caso de error.\n",
    "    \"\"\"\n",
    "    try:\n",
    "        response = requests.post(url, json=datos, headers=headers)\n",
    "        response.raise_for_status()  # Esto lanzará una excepción si la solicitud falla\n",
    "        try:\n",
    "            return True, response.json()  # Intenta devolver como JSON\n",
    "        except ValueError:\n",
    "            return True, response.text  # Devuelve como texto si no se puede convertir a JSON\n",
    "    except requests.RequestException as e:\n",
    "        return False, str(e)  # Devuelve False y el error si la solicitud falló\n",
    "\n",
    "# Ejemplo de uso\n",
    "url = 'http://127.0.0.1:8000/predict/'\n",
    "datos_json = {'age': [58],\n",
    " 'job': ['management'],\n",
    " 'marital': ['married'],\n",
    " 'education': ['tertiary'],\n",
    " 'default': ['no'],\n",
    " 'balance': [2143],\n",
    " 'housing': ['yes'],\n",
    " 'loan': ['no'],\n",
    " 'day_of_week': [5],\n",
    " 'month': ['may'],\n",
    " 'campaign': [1],\n",
    " 'pdays': [-1],\n",
    " 'previous': [0]}\n",
    "#headers = {'Authorization': 'Bearer tu_token_aqui'}\n",
    "\n",
    "exito, respuesta = realizar_solicitud_post(url, datos_json)\n",
    "\n",
    "if exito:\n",
    "    print('Solicitud exitosa. Respuesta:', respuesta)\n",
    "else:\n",
    "    print('Error en la solicitud:', respuesta)"
   ]
  }
 ],
 "metadata": {
  "kernelspec": {
   "display_name": "proyecto_pandas",
   "language": "python",
   "name": "python3"
  },
  "language_info": {
   "codemirror_mode": {
    "name": "ipython",
    "version": 3
   },
   "file_extension": ".py",
   "mimetype": "text/x-python",
   "name": "python",
   "nbconvert_exporter": "python",
   "pygments_lexer": "ipython3",
   "version": "3.12.7"
  }
 },
 "nbformat": 4,
 "nbformat_minor": 2
}
